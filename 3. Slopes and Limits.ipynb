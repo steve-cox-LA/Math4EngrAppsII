{
 "cells": [
  {
   "cell_type": "markdown",
   "metadata": {},
   "source": [
    "# 3. Slopes and Limits\n",
    "\n",
    "We wish to find the slope of $\\sin(x)$ at $x=0$. Recalling that slope is merely rise over run we imagine a small number $h>0$ and so find a run of $h-0$ and rise of $\\sin(h)-\\sin(0)=\\sin(h)$. As the slope, $\\sin(h)/h$, depends on $h$ we ask what happens as we let our arbitrary $h$ tend to 0. In mathematical terms we ask for\n",
    "\n",
    "$$\n",
    "  \\lim_{h\\to 0} \\frac{\\sin(h)}{h}\n",
    "$$\n",
    "\n",
    "Let us first use python to explore this limit visually and numerically."
   ]
  },
  {
   "cell_type": "code",
   "execution_count": 1,
   "metadata": {
    "scrolled": true
   },
   "outputs": [
    {
     "data": {
      "image/png": "[encoded data removed]",
      "text/plain": [
       "<Figure size 432x288 with 1 Axes>"
      ]
     },
     "metadata": {
      "needs_background": "light"
     },
     "output_type": "display_data"
    }
   ],
   "source": [
    "import numpy as np\n",
    "import matplotlib.pyplot as plt\n",
    "\n",
    "h = np.linspace(0.000001, 0.1, 100)  # start h values just above 0\n",
    "\n",
    "plt.plot(h, np.sin(h)/h,'k')\n",
    "\n",
    "plt.plot(h, np.cos(h), 'r')\n",
    "\n",
    "plt.plot([0, .1], [1, 1], 'b')\n",
    "\n",
    "plt.grid('on')\n",
    "plt.xlabel('h')\n",
    "plt.ylabel('$\\sin(h)/h$')\n",
    "plt.title('Figure 1. Squeezing $\\sin(h)/h$');"
   ]
  },
  {
   "cell_type": "markdown",
   "metadata": {},
   "source": [
    "This then suggest of course that $\\sin(h)/h\\approx 1$ when $h$ is close to 0. To explore this with numbers we find"
   ]
  },
  {
   "cell_type": "code",
   "execution_count": 6,
   "metadata": {},
   "outputs": [
    {
     "name": "stdout",
     "output_type": "stream",
     "text": [
      "0.9983341664682815\n",
      "0.9999833334166665\n",
      "0.9999998333333416\n"
     ]
    }
   ],
   "source": [
    "h = 0.1\n",
    "print(np.sin(h)/h)\n",
    "h = 0.01\n",
    "print(np.sin(h)/h)\n",
    "h = 0.001\n",
    "print(np.sin(h)/h)"
   ]
  },
  {
   "cell_type": "markdown",
   "metadata": {},
   "source": [
    "This is all very strong evidence for the claim that\n",
    "\n",
    "$$\n",
    "  \\lim_{h\\to 0} \\frac{\\sin(h)}{h} = 1\n",
    "$$\n",
    "\n",
    "Nonetheless we remain troubled by the fact that we cannot simply evaluate $\\sin(0)/0$. In order to get to that subtle limit we will use our knowledge of trigonometry to set up the squeeze play\n",
    "\n",
    "$$\n",
    "  \\boxed{\\cos(h) \\le \\frac{\\sin(h)}{h} \\le 1}\n",
    "$$\n",
    "\n",
    "This will get us out of our bind, for undoubtedly\n",
    "\n",
    "$$\n",
    "  \\lim_{h\\to 0}\\cos(h) = 1\n",
    "$$\n",
    "\n",
    "and so our subtle slope, $\\sin(h)/h$, is squeezed between 1 and 1 in the limit and so can be none other than 1.\n",
    "\n",
    "Our squeeze play is really two separate inequalities\n",
    "\n",
    "$$\n",
    "  \\boxed{h\\cos(h) \\le \\sin(h)} \\hskip 0.25in\\hbox{and}\\hskip 0.25in \\boxed{\\sin(h) \\le h}.\n",
    "$$\n",
    "\n",
    "We will establish these one at a time, starting with the latter. \n",
    "\n",
    "We begin with a wedge of angle $h$ and radius 1 and so arc length $h/1=h$. We drop a green vertical and note that is has length $\\sin(h)$ (since our hypotenuse has length 1)."
   ]
  },
  {
   "cell_type": "code",
   "execution_count": 3,
   "metadata": {},
   "outputs": [
    {
     "data": {
      "image/png": "[encoded data removed]",
      "text/plain": [
       "<Figure size 432x288 with 1 Axes>"
      ]
     },
     "metadata": {
      "needs_background": "light"
     },
     "output_type": "display_data"
    }
   ],
   "source": [
    "h = np.pi/4\n",
    "t = np.linspace(0, h, 100)   \n",
    "plt.plot(np.cos(t), np.sin(t))\n",
    "\n",
    "plt.plot([0, 1],[0, 0],'k') \n",
    "plt.plot([np.cos(h), np.cos(h)], [0, np.sin(h)], 'g')\n",
    "plt.text(1.05*np.cos(h), 0.25*np.sin(h),'$\\\\sin(h)$',fontsize=20,color='g')\n",
    "plt.text(0.5*np.cos(1.1*h), 0.5*np.sin(1.1*h),'1',fontsize=20, color='r')\n",
    "plt.plot([0, np.cos(h)],[0, np.sin(h)],'r')\n",
    "plt.text(1.05*np.cos(h/2), 1.05*np.sin(h/2),'h',fontsize=20,color='b')\n",
    "plt.text(0.25*np.cos(h/2), 0.25*np.sin(h/2),'h',fontsize=20)\n",
    "#plt.text(0,0.65,'Figure 1',fontsize=20)\n",
    "plt.axis('off')\n",
    "plt.axis('equal');"
   ]
  },
  {
   "cell_type": "markdown",
   "metadata": {},
   "source": [
    "The blue arc sure looks longer than the green vertical. To clinch that surmise we need only join our figure with its reflection over the x-axis,"
   ]
  },
  {
   "cell_type": "code",
   "execution_count": 4,
   "metadata": {},
   "outputs": [
    {
     "data": {
      "image/png": "[encoded data removed]",
      "text/plain": [
       "<Figure size 432x288 with 1 Axes>"
      ]
     },
     "metadata": {
      "needs_background": "light"
     },
     "output_type": "display_data"
    }
   ],
   "source": [
    "t = np.linspace(-h, h, 100)   \n",
    "plt.plot(np.cos(t), np.sin(t))\n",
    "\n",
    "plt.plot([0, 1],[0, 0],'k') \n",
    "plt.plot([np.cos(h), np.cos(h)], [np.sin(-h), np.sin(h)], 'g')\n",
    "\n",
    "plt.plot([0, np.cos(h)],[0, np.sin(h)],'r')\n",
    "plt.plot([0, np.cos(h)],[0, np.sin(-h)],'r')\n",
    "\n",
    "plt.text(0.25*np.cos(h/2), 0.25*np.sin(h/2),'h',fontsize=20)\n",
    "\n",
    "plt.axis('off')\n",
    "plt.axis('equal');"
   ]
  },
  {
   "cell_type": "markdown",
   "metadata": {},
   "source": [
    "As we have simply doubled the original lengths, the new blue arc has length $2h$ while the new green vertical has length $2\\sin(h)$. Finally, as the shortest distance between two points is straight, we have **proven** that\n",
    "\n",
    "$$\n",
    "  \\sin(h) \\le h.\n",
    "$$\n",
    "\n",
    "This completes the first half of our squeeze play. We did this by comparing lengths. We will achieve the other side of our squeeze by comparing areas. We begin with the same wedge, but instead of dropping a green vertical on the inside we drop it on the outside, and so give it length $\\tan(h)$."
   ]
  },
  {
   "cell_type": "code",
   "execution_count": 5,
   "metadata": {},
   "outputs": [
    {
     "data": {
      "image/png": "[encoded data removed]",
      "text/plain": [
       "<Figure size 432x288 with 1 Axes>"
      ]
     },
     "metadata": {
      "needs_background": "light"
     },
     "output_type": "display_data"
    }
   ],
   "source": [
    "t = np.linspace(0, h, 100)   \n",
    "plt.plot(np.cos(t), np.sin(t))\n",
    "\n",
    "plt.plot([0, 1],[0, 0],'k') \n",
    "plt.plot([1, 1], [0, np.tan(h)], 'g')\n",
    "plt.text(1.05, 0.5*np.tan(h),'$\\\\tan(h)$',fontsize=20,color='g')\n",
    "plt.text(0.5, 0.05,'1',fontsize=20)\n",
    "plt.plot([0, 1],[0, np.tan(h)],'r')\n",
    "plt.text(np.cos(h)+.1, np.sin(h)-.1,'h',fontsize=20, color='b')\n",
    "plt.text(0.25*np.cos(h/2), 0.25*np.sin(h/2),'h',fontsize=20)\n",
    "#plt.text(0,0.65,'Figure 1',fontsize=20)\n",
    "plt.axis('off')\n",
    "plt.axis('equal');"
   ]
  },
  {
   "cell_type": "markdown",
   "metadata": {},
   "source": [
    "Let us now compute and compare the areas of the wedge and the triangle. The area of a triangle is half the product of base and height. In our case, that is\n",
    "\n",
    "$$\n",
    "  \\tan(h)/2.\n",
    "$$\n",
    "\n",
    "The area of wedge of angle $h$ is $h/(2\\pi)$ times the area of the full circle. In our case, that is\n",
    "\n",
    "$$\n",
    "  h/2.\n",
    "$$\n",
    "\n",
    "As the triangle includes the wedge, the triangle must have the greater area, i.e.,\n",
    "\n",
    "$$\n",
    "  h \\le \\tan(h).\n",
    "$$\n",
    "\n",
    "As $\\tan(h)=\\sin(h)/\\cos(h)$ we find\n",
    "\n",
    "$$\n",
    "  h\\cos(h) \\le \\sin(h),\n",
    "$$\n",
    "\n",
    "the first of our squeeze inequalities. We have now proven that the limit of the slope of $\\sin$ at 0  is\n",
    "\n",
    "$$\n",
    "  \\boxed{\\lim_{h\\to 0}\\frac{\\sin(h)}{h} = 1}\n",
    "$$"
   ]
  },
  {
   "cell_type": "markdown",
   "metadata": {},
   "source": [
    "**Homework 3.** Construct a jupyter notebook that graphically explores and estimates each of the limits in Strang, Section 2.4, Exercises 3 and 10.\n"
   ]
  }
 ],
 "metadata": {
  "kernelspec": {
   "display_name": "Python 3",
   "language": "python",
   "name": "python3"
  },
  "language_info": {
   "codemirror_mode": {
    "name": "ipython",
    "version": 3
   },
   "file_extension": ".py",
   "mimetype": "text/x-python",
   "name": "python",
   "nbconvert_exporter": "python",
   "pygments_lexer": "ipython3",
   "version": "3.8.3"
  },
  "latex_envs": {
   "LaTeX_envs_menu_present": true,
   "autoclose": false,
   "autocomplete": false,
   "bibliofile": "",
   "cite_by": "apalike",
   "current_citInitial": 1,
   "eqLabelWithNumbers": true,
   "eqNumInitial": 1,
   "hotkeys": {
    "equation": "Ctrl-E",
    "itemize": "Ctrl-I"
   },
   "labels_anchors": false,
   "latex_user_defs": false,
   "report_style_numbering": true,
   "user_envs_cfg": true
  },
  "toc": {
   "base_numbering": 1,
   "nav_menu": {},
   "number_sections": true,
   "sideBar": true,
   "skip_h1_title": false,
   "title_cell": "Table of Contents",
   "title_sidebar": "Contents",
   "toc_cell": false,
   "toc_position": {},
   "toc_section_display": true,
   "toc_window_display": false
  }
 },
 "nbformat": 4,
 "nbformat_minor": 4
}
