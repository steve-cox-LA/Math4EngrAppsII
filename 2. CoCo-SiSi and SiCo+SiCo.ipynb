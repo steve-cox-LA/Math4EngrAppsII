{
 "cells": [
  {
   "cell_type": "markdown",
   "metadata": {},
   "source": [
    "# 2. CoCo-SiSi and SiCo+SiCo\n",
    "\n",
    "We first construct a picture proof of \n",
    "\n",
    "$$\n",
    "   \\cos(b-a) = \\cos(b)\\cos(a) + \\sin(a)\\sin(b)  \\tag{1}\n",
    "$$\n",
    "\n",
    "We begin with legs, to the unit circle, at angles $b$ (black) and $a$ (red). \n",
    "\n",
    "We connect these legs with a solid green chord.\n",
    "\n",
    "Then we rotate this triangle, clockwise, by the angle $a$, and arrive at the triangle with a dashed green chord."
   ]
  },
  {
   "cell_type": "code",
   "execution_count": 1,
   "metadata": {
    "code_folding": [
     0
    ]
   },
   "outputs": [
    {
     "data": {
      "image/png": "[encoded data removed]",
      "text/plain": [
       "<Figure size 432x288 with 1 Axes>"
      ]
     },
     "metadata": {
      "needs_background": "light"
     },
     "output_type": "display_data"
    }
   ],
   "source": [
    "# set the stage\n",
    "import numpy as np\n",
    "import matplotlib.pyplot as plt\n",
    "\n",
    "t = np.linspace(0, np.pi/2, 100)   # draw blue arc of unit circle\n",
    "plt.plot(np.cos(t), np.sin(t))\n",
    "\n",
    "a = np.pi/4\n",
    "b = 1.5*a\n",
    "\n",
    "plt.plot([0, np.cos(b)],[0, np.sin(b)],'k')   # draw orginal triangle with legs of angle b and a\n",
    "plt.text(1.05*np.cos(b), 1.05*np.sin(b),'$(\\cos(b),\\sin(b))$', fontsize =  14)\n",
    "plt.plot([0, np.cos(a)],[0, np.sin(a)],'r')\n",
    "plt.text(1.05*np.cos(a), 1.05*np.sin(a),'$(\\cos(a),\\sin(a))$', fontsize =  14)\n",
    "plt.text(0.5*np.cos((b+a)/2), 0.5*np.sin((b+a)/2), '$b-a$', rotation = 50, fontsize =  14)\n",
    "plt.plot([np.cos(a), np.cos(b)],[np.sin(a), np.sin(b)],'g')\n",
    "\n",
    "plt.plot([0, np.cos(b-a)],[0, np.sin(b-a)],'k--')  # rotate that triangle clockwise by angle a\n",
    "plt.text(1.05*np.cos(b-a), 1.05*np.sin(b-a),'$(\\cos(b-a),\\sin(b-a))$', fontsize =  14)\n",
    "plt.plot([0, np.cos(a-a)],[0, np.sin(a-a)],'r--')\n",
    "plt.text(1.05*np.cos(a-a), 1.05*np.sin(a-a),'$(1,0)$', fontsize =  14)\n",
    "plt.text(0.5*np.cos((b-a)/2), 0.5*np.sin((b-a)/2), '$b-a$', rotation = 10, fontsize =  14)\n",
    "plt.plot([np.cos(a-a), np.cos(b-a)],[np.sin(a-a), np.sin(b-a)],'g--')\n",
    "\n",
    "plt.axis('off')\n",
    "plt.axis('equal');"
   ]
  },
  {
   "cell_type": "markdown",
   "metadata": {},
   "source": [
    "As rotation does not change lengths it follows that the length of the green chord is the length of the dashed green cord. It is almost always easier to work with squared lengths. Recall that the square of the distance between two points is the sum of the squares of the coordinate differences. Hence, the square of the length of the green chord is\n",
    "\n",
    "$$\n",
    "  (\\cos(b)-\\cos(a))^2 + (\\sin(b)-\\sin(a))^2\n",
    "$$\n",
    "\n",
    "which by FOIL and $\\sin^2(\\theta)+\\cos^2(\\theta)=1$ for every $\\theta$, yields\n",
    "\n",
    "$$\n",
    "  \\hbox{the square of the length of the green chord is}\\hskip 0.25in 2 - 2\\cos(a)\\cos(b) - 2\\sin(a)\\sin(b).     \n",
    "$$\n",
    "\n",
    "By the same reasoning, the square of the length of the dashed green chord is\n",
    "\n",
    "$$\n",
    "  (\\cos(b-a)-1)^2 + (\\sin(b-a)-0)^2\n",
    "$$\n",
    "\n",
    "which by FOIL and $\\sin^2(\\theta)+\\cos^2(\\theta)=1$ for every $\\theta$, reveals\n",
    "\n",
    "$$\n",
    "  \\hbox{the square of the length of the dashed green chord is}\\hskip 0.25in 2 - 2\\cos(b-a).     \n",
    "$$\n",
    "\n",
    "As the squares of these two lengths must be equal we find\n",
    "\n",
    "$$\n",
    "  2 - 2\\cos(a)\\cos(b) - 2\\sin(a)\\sin(b) = 2 - 2\\cos(b-a)\n",
    "$$\n",
    "\n",
    "which says\n",
    "\n",
    "$$\n",
    "  \\boxed{\\cos(b-a) = \\cos(a)\\cos(b) + \\sin(a)\\sin(b)}\n",
    "$$\n",
    "\n",
    "Now our picture stays in the first quadrant just to keep things simple, but of course we might replace $a$ with $-a$, in which case\n",
    "\n",
    "$$\n",
    "  \\cos(b--a) = \\cos(-a)\\cos(b) + \\sin(-a)\\sin(b)\n",
    "$$\n",
    "\n",
    "becomes (recalling that $\\cos$ is even and $\\sin$ is odd)\n",
    "\n",
    "$$\n",
    "  \\boxed{\\cos(b+a) = \\cos(a)\\cos(b) - \\sin(a)\\sin(b)} \\tag{CoCo-SiSi}\n",
    "$$\n",
    "\n",
    "Now, lets replace $b$ with $\\pi/2-b$ in the box\n",
    "\n",
    "$$\n",
    "  \\cos(\\pi/2 - b-a) = \\cos(a)\\cos(\\pi/2-b) + \\sin(a)\\sin(\\pi/2-b)\n",
    "$$\n",
    "\n",
    "and arrive at\n",
    "\n",
    "$$\n",
    "  \\boxed{\\sin(b+a) = \\sin(b)\\cos(a) + \\sin(a)\\cos(b)} \\tag{SiCo+SiCo}\n",
    "$$\n",
    "  \n",
    "\n",
    "  "
   ]
  },
  {
   "cell_type": "markdown",
   "metadata": {},
   "source": [
    "## Homework 2. Due Midnight Monday at Blackboard\n",
    "\n",
    "Compose a jupyter notebook that explains (in text) and illustrates (in pictures) your answers to Exercises 8, 9, and 11 in section 1.5 of our text."
   ]
  },
  {
   "cell_type": "markdown",
   "metadata": {},
   "source": [
    "<a href=\"https://drive.google.com/file/d/1FmTxhtl1wME0ckJueJMX_VpT7fM4htfa/view?usp=sharing\">Previous Chapter</a> <a href=\"\">Next Chapter"
   ]
  }
 ],
 "metadata": {
  "kernelspec": {
   "display_name": "Python 3",
   "language": "python",
   "name": "python3"
  },
  "language_info": {
   "codemirror_mode": {
    "name": "ipython",
    "version": 3
   },
   "file_extension": ".py",
   "mimetype": "text/x-python",
   "name": "python",
   "nbconvert_exporter": "python",
   "pygments_lexer": "ipython3",
   "version": "3.8.3"
  },
  "latex_envs": {
   "LaTeX_envs_menu_present": true,
   "autoclose": false,
   "autocomplete": false,
   "bibliofile": "",
   "cite_by": "apalike",
   "current_citInitial": 1,
   "eqLabelWithNumbers": true,
   "eqNumInitial": 1,
   "hotkeys": {
    "equation": "Ctrl-E",
    "itemize": "Ctrl-I"
   },
   "labels_anchors": false,
   "latex_user_defs": false,
   "report_style_numbering": true,
   "user_envs_cfg": true
  },
  "toc": {
   "base_numbering": 1,
   "nav_menu": {},
   "number_sections": false,
   "sideBar": true,
   "skip_h1_title": false,
   "title_cell": "Table of Contents",
   "title_sidebar": "Contents",
   "toc_cell": false,
   "toc_position": {},
   "toc_section_display": true,
   "toc_window_display": false
  }
 },
 "nbformat": 4,
 "nbformat_minor": 4
}
