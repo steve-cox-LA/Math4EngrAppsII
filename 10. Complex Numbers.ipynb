{
 "cells": [
  {
   "cell_type": "markdown",
   "metadata": {},
   "source": [
    "# 10. Complex Numbers\n",
    "\n",
    "We have by now constructed Taylor Series for the four main function of the universe; $\\sin$, $\\cos$, $\\log$, and $\\exp$.\n",
    "\n",
    "We have also seen how Newton's Method makes repetitive use of Taylor's Formula to solve equations.\n",
    "\n",
    "In this notebook we will see how complex numbers permit us to ***see*** $\\sin$ and $\\cos$ as pieces of $\\exp$. This is a truly remarkable deduction - beautiful in its own right - but also pregnant with an infinite number of applications across science and engineering.\n",
    "\n",
    "Complex numbers, like the log function, were invented to fill a simple gap.  The gap in this case is polynomials without roots.\n",
    "\n",
    "You know that the roots of $x^2=c$ are $\\pm\\sqrt{c}$ so long as $c>0$. The \"fundmamental gap\" appears with the quandry\n",
    "\n",
    "$$\n",
    "  x^2 = -1?\n",
    "$$\n",
    "\n",
    "What number, when squared, becomes $-1$? There is no \"real\" answer to this question. It requires a leap of imagination to accept the definition of $j$, the imaginary unit, for which\n",
    "\n",
    "$$\n",
    "  j^2 = -1.\n",
    "$$\n",
    "\n",
    "Amazingly, filling this one gap for this one polynomial in fact fills the gap for ALL polynomials!\n",
    "\n",
    "For example, the roots of $ax^2+bx+c$ are\n",
    "\n",
    "$$\n",
    "  \\frac{-b\\pm\\sqrt{b^2-4ac}}{2a}\n",
    "$$\n",
    "\n",
    "so long as $b^2>4ac$. If instead $4ac>b^2$ our $j$ comes to the rescue, the roots being\n",
    "\n",
    "$$\n",
    "  \\frac{-b\\pm j\\sqrt{4ac-b^2}}{2a}\n",
    "$$\n",
    "\n",
    "We call these number **complex** with **real part** \n",
    "\n",
    "$$\n",
    "  \\frac{-b}{2a}\n",
    "$$\n",
    "\n",
    "and **imaginary parts** \n",
    "\n",
    "$$\n",
    "  \\frac{\\pm\\sqrt{4ac-b^2}}{2a}.\n",
    "$$\n",
    "\n",
    "For example, the roots of $x^2-2x+3$ are\n",
    "$$\n",
    "  \\frac{2 \\pm \\sqrt{4-12}}{2} = 1 \\pm j \\sqrt 2\n",
    "$$\n",
    "\n",
    "Let's check our understanding of this in python. We encode the polynomial $x^2-2x+3$ by the list of its coefficients (in decreasing powers) [1,-2,3]. We use the numpy method, roots, to find its roots."
   ]
  },
  {
   "cell_type": "code",
   "execution_count": 3,
   "metadata": {},
   "outputs": [
    {
     "data": {
      "text/plain": [
       "array([1.+1.41421356j, 1.-1.41421356j])"
      ]
     },
     "execution_count": 3,
     "metadata": {},
     "output_type": "execute_result"
    }
   ],
   "source": [
    "import numpy as np\n",
    "np.roots([1,-2,3])"
   ]
  },
  {
   "cell_type": "markdown",
   "metadata": {},
   "source": [
    "## Complex Arithmetic\n",
    "\n",
    "Given two complex numbers, \n",
    "\n",
    "$$\n",
    "  z_1 = x_1 + j y_1 \\hskip 0.25in\\hbox{and}\\hskip 0.25in z_2 = x_2 + j y_2\n",
    "$$\n",
    "\n",
    "we now define their **sum** (using the dictate - stay in your lane!)\n",
    "\n",
    "$$\n",
    "  z_1 + z_2 = (x_1+x_2) + j(y_1+y_2), \\hskip 0.25in\\hbox{for example}\\hskip 0.25in (2+3j)+(4+5j) = 6+8j\n",
    "$$\n",
    "\n",
    "their **difference** (using the dictate - stay in your lane!)\n",
    "\n",
    "$$\n",
    "  z_1 - z_2 = (x_1-x_2) + j(y_1-y_2), \\hskip 0.25in\\hbox{for example}\\hskip 0.25in (2+3j)-(4+5j) = -2-2j\n",
    "$$\n",
    "\n",
    "their **product** (using FOIL)\n",
    "\n",
    "$$\n",
    "  z_1z_2 = (x_1+jy_1)(x_2+jy_2) = (x_1x_2-y_1y_2) + j(x_1y_2+x_2y_1), \\hskip 0.25in\\hbox{for example}\\hskip 0.25in (2+3j)(4+5j) = -7+22j\n",
    "$$\n",
    "\n",
    "and their **quotient** (using FOIL and downstairs conjugate to get real denominator)\n",
    "\n",
    "$$\n",
    "  \\frac{z_1}{z_2} = \\frac{x_1+jy_1}{x_2+jy_2} = \\frac{x_1+jy_1}{x_2+jy_2}\\frac{x_2-jy_2}{x_2-jy_2} = \n",
    "    \\frac{(x_1x_2+y_1y_2)+j(y_1x_2-x_1y_2)}{x_2^2+y_2^2}\n",
    "    \\hskip 0.25in\\hbox{for example}\\hskip 0.25in \\frac{2+3j}{4+5j} = \\frac{23+2j}{41}\n",
    "$$\n",
    "\n",
    "This is all fairly mechanical, and easily checked in python"
   ]
  },
  {
   "cell_type": "code",
   "execution_count": 5,
   "metadata": {},
   "outputs": [
    {
     "name": "stdout",
     "output_type": "stream",
     "text": [
      "z1 + z2 =  (6+8j)\n",
      "z1 - z2 =  (-2-2j)\n",
      "z1 * z2 =  (-7+22j)\n",
      "z1 / z2 =  (0.561+0.049j)\n"
     ]
    }
   ],
   "source": [
    "z1 = 2+3j\n",
    "z2 = 4+5j\n",
    "print('z1 + z2 = ', z1+z2)\n",
    "print('z1 - z2 = ', z1-z2)\n",
    "print('z1 * z2 = ', z1*z2)\n",
    "print('z1 / z2 = ', np.round(z1/z2,3))"
   ]
  },
  {
   "cell_type": "markdown",
   "metadata": {},
   "source": [
    "To get beyond the mechanical and ***see*** complex numbers we rethink the $(x,y)$ plane and use the $x$-axis for the real part and $y$ for the imaginary part of the complex number\n",
    "\n",
    "$$\n",
    "  z = x + yj\n",
    "$$\n",
    "\n",
    "This defines a right triangle and so gives us a way to think about the ***magnitude*** \n",
    "\n",
    "$$\n",
    "  |z| \\equiv \\sqrt{x^2+y^2}\n",
    "$$\n",
    "\n",
    "and ***phase*** \n",
    "\n",
    "$$\n",
    "  \\angle z = \\tan^{-1}(y/x)\n",
    "$$\n",
    "\n",
    "We illustrate this below"
   ]
  },
  {
   "cell_type": "code",
   "execution_count": 31,
   "metadata": {},
   "outputs": [
    {
     "data": {
      "image/png": "[encoded data removed]",
      "text/plain": [
       "<Figure size 432x288 with 1 Axes>"
      ]
     },
     "metadata": {
      "needs_background": "light"
     },
     "output_type": "display_data"
    }
   ],
   "source": [
    "import matplotlib.pyplot as plt\n",
    "\n",
    "z = 2 + 3j\n",
    "plt.plot(z.real, z.imag, 'ro')\n",
    "plt.plot([0, z.real],[0, z.imag],'r')\n",
    "plt.text(z.real-0.1,z.imag,'z', fontsize=14)\n",
    "plt.text(1.2,1.5,'$|z| = $' + str(round(abs(z),2)), fontsize=14)\n",
    "plt.text(.25,0.1,'$\\\\angle z = $' + str(round(np.arctan2(z.imag,z.real),2)), fontsize=14)\n",
    "plt.plot([z.real, z.real],[0, z.imag], 'b--')\n",
    "plt.text(z.real+.1, z.imag/2, '$|z|\\\\sin(\\\\angle z)$', fontsize=14)\n",
    "plt.plot([0, z.real],[0, 0], 'g--')\n",
    "plt.text(z.real/2, -.3, '$|z|\\\\cos(\\\\angle z)$', fontsize=14)\n",
    "plt.xlim([-.1, 2.75])\n",
    "plt.ylim([-.5, 3.4])\n",
    "plt.grid('on')"
   ]
  },
  {
   "cell_type": "markdown",
   "metadata": {},
   "source": [
    "## Euler's Formula\n",
    "\n",
    "We have seen that we can do arithmetic with complex numbers. It follows that we can then consider functions of complex numbers. Of course we should begin with $\\exp$. We borrow the Taylor Series you constructed for the **real** $\\exp$\n",
    "\n",
    "$$\n",
    "  \\exp(z) = \\sum_{n=0}^\\infty \\frac{z^n}{n!}\n",
    "$$\n",
    "\n",
    "and ask what happens when $z=tj$ is purely imaginary (here $t$ is real). Well\n",
    "\n",
    "$$\n",
    "  \\exp(tj) = \\sum_{n=0}^\\infty \\frac{(tj)^n}{n!} = \\sum_{n=0}^\\infty \\frac{t^nj^n}{n!}\n",
    "$$\n",
    "\n",
    "This falls into lovely pieces based on the lovely sequence of facts\n",
    "\n",
    "$$\n",
    "  j^2 = -1, \\hskip 0.25in j^3 = -j, \\hskip 0.25in j^4 = 1, \\hskip 0.25in j^5 = j, \\hskip 0.25in j^6 = -1, \\ldots\n",
    "$$\n",
    "\n",
    "Using this sequence in our $\\exp$ formula yields\n",
    "\n",
    "$$\n",
    "  \\exp(tj) = 1 + tj - \\frac{t^2}{2} - \\frac{t^3j}{3!} + \\frac{t^4}{4!} + \\frac{t^5j}{5!} - \\frac{t^6}{6!} - \\frac{t^7j}{7!} + \\cdots\n",
    "$$\n",
    "\n",
    "The magic happens when we now group the real and imaginary parts\n",
    "\n",
    "$$\n",
    " \\exp(tj) = \\left(1 - \\frac{t^2}{2} + \\frac{t^4}{4!}  - \\frac{t^6}{6!}  + \\cdots\\right) +\n",
    "   j\\left(t - \\frac{t^3}{3!} + \\frac{t^5}{5!} - \\frac{t^7}{7!} + \\cdots\\right)\n",
    "$$\n",
    "\n",
    "Finally, with Euler we recognize these two Taylor Series and arrive at\n",
    "\n",
    "$$\n",
    "  \\boxed{\\exp(tj) = \\cos(t) + j\\sin(t)}  \\tag{EF}\n",
    "$$\n",
    "\n",
    "We will use the exercises to explore some of the coolest consequences."
   ]
  },
  {
   "cell_type": "markdown",
   "metadata": {},
   "source": [
    "## Homework 10.\n",
    "\n",
    "Complete the following in a jupyter notebook. Show all of your work, and check your work in python cells.\n",
    "\n",
    "1. Find two nonzero complex numbers whose sum is 2-3j\n",
    "\n",
    "2. Find two nonzero complex numbers whose difference is 2-3j\n",
    "\n",
    "3. Find two nonzero complex numbers whose product is 2-3j\n",
    "\n",
    "4. Find two nonzero complex numbers whose quotient is 2-3j\n",
    "\n",
    "5. Find the magnitude and angle of 2-3j\n",
    "\n",
    "6. Show that the identity $\\exp(aj)\\exp(bj)=\\exp((a+b)j)$ yields **both** coco-sisi and sico+sico.\n",
    "\n",
    "7. Expand, via (EF)\n",
    "$$\n",
    "  \\frac{\\exp(jt)+\\exp(-jt)}{2}\n",
    "$$\n",
    "and rediscover an old friend.\n",
    "\n",
    "8. Expand, via (EF)\n",
    "$$\n",
    "  \\frac{\\exp(jt)-\\exp(-jt)}{2j}\n",
    "$$\n",
    "and rediscover an old friend."
   ]
  }
 ],
 "metadata": {
  "kernelspec": {
   "display_name": "Python 3",
   "language": "python",
   "name": "python3"
  },
  "language_info": {
   "codemirror_mode": {
    "name": "ipython",
    "version": 3
   },
   "file_extension": ".py",
   "mimetype": "text/x-python",
   "name": "python",
   "nbconvert_exporter": "python",
   "pygments_lexer": "ipython3",
   "version": "3.8.3"
  },
  "latex_envs": {
   "LaTeX_envs_menu_present": true,
   "autoclose": false,
   "autocomplete": false,
   "bibliofile": "",
   "cite_by": "apalike",
   "current_citInitial": 1,
   "eqLabelWithNumbers": true,
   "eqNumInitial": 1,
   "hotkeys": {
    "equation": "Ctrl-E",
    "itemize": "Ctrl-I"
   },
   "labels_anchors": false,
   "latex_user_defs": false,
   "report_style_numbering": true,
   "user_envs_cfg": true
  },
  "toc": {
   "base_numbering": 1,
   "nav_menu": {},
   "number_sections": true,
   "sideBar": true,
   "skip_h1_title": false,
   "title_cell": "Table of Contents",
   "title_sidebar": "Contents",
   "toc_cell": false,
   "toc_position": {},
   "toc_section_display": true,
   "toc_window_display": false
  }
 },
 "nbformat": 4,
 "nbformat_minor": 4
}
