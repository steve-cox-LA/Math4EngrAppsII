{
 "cells": [
  {
   "cell_type": "markdown",
   "metadata": {},
   "source": [
    "# 7. Integration\n",
    "\n",
    "Given a function, $f$, and an interval $[a,b]$, we study the integral \n",
    "\n",
    "$$\n",
    "  \\int_a^b f(x)\\,dx \\equiv \\lim_{N\\to\\infty}\\sum_{n=0}^{N-1} f(x_n)dx\n",
    "$$\n",
    "\n",
    "where  $dx = (b-a)/N$ is the width of each of the $N$ subintervals and $x_n$ is the center of the $n$th subinterval\n",
    "\n",
    "$$\n",
    "  x_n = a + ndx + dx/2 = a + dx(n+1/2)\n",
    "$$\n",
    "\n",
    "For example, suppose $a=0$ and $b=1$ and $N=4$ so that each subinterval has length $dx = 1/4$ and their centers are at\n",
    "\n",
    "$$\n",
    "  x_0 = 1/8, \\hskip 0.25in x_1 = 3/8, \\hskip 0.25in x_2 = 5/8, \\hskip 0.25in x_3 = 7/8.\n",
    "$$\n",
    "\n",
    "**The python cell below can be used to see and integrate any function over any interval.**\n"
   ]
  },
  {
   "cell_type": "code",
   "execution_count": 10,
   "metadata": {},
   "outputs": [
    {
     "data": {
      "image/png": "[encoded data removed]",
      "text/plain": [
       "<Figure size 432x288 with 1 Axes>"
      ]
     },
     "metadata": {
      "needs_background": "light"
     },
     "output_type": "display_data"
    }
   ],
   "source": [
    "import matplotlib.pyplot as plt\n",
    "import numpy as np\n",
    "\n",
    "def f(x):\n",
    "    return np.exp(-x)    # specify the function you wish to integrate\n",
    "\n",
    "a = 0   # left end\n",
    "b = 3   # right end\n",
    "N = 20  # number of subintervals\n",
    "dx = (b-a)/N  # width of each subinterval\n",
    "X = np.arange(a+dx/2,b,dx)   # create the array of subinterval centers, starting at a + dx/2, up to b, in increments of dx\n",
    "\n",
    "plt.bar(X, f(X), width=dx, edgecolor = 'k')  # display the rectangles\n",
    "plt.plot(X, f(X), 'ro-')   # place a black dot at each point\n",
    "plt.xlabel('$x$', fontsize=14)\n",
    "plt.ylabel('$f(x)$', fontsize=14)\n",
    "\n",
    "sum = 0\n",
    "\n",
    "for x in X:                    # careful, X is the array of x points\n",
    "    sum = sum + f(x)*dx   # add up (height times width)\n",
    "    \n",
    "plt.title('Area under the curve $\\\\approx$ ' + str(np.round(sum,3)), fontsize=16);"
   ]
  },
  {
   "cell_type": "markdown",
   "metadata": {},
   "source": [
    "This python code always works, but we often require explanations rather than mere numbers.\n",
    "\n",
    "To that end, we explore how integration gets along with differentiation. In particular, we consider\n",
    "\n",
    "$$\n",
    " \\eqalign{\\int_a^b f'(x)\\,dx \n",
    "  &\\approx \\sum_{n=0}^{N-1} f'(x_n)dx \\cr\n",
    "  &\\approx \\sum_{n=0}^{N-1} \\frac{f(a+(n+1)dx)-f(a+ndx)}{dx}dx \\cr\n",
    "  &  = \\sum_{n=0}^{N-1} (f(a+(n+1)dx) - f(a+ndx)) \\cr\n",
    "  &= f(a+dx)-f(a) + f(a+2dx)-f(a+dx) + \\cdots + f(a+(N-1)dx) - f(a+(N-2)dx + f(a+Ndx) - f(a+(N-1)dx) \\cr\n",
    "  &= f(b) - f(a) \\cr}\n",
    "$$\n",
    "\n",
    "This result, after $N$ has indeed gone to $\\infty$, is known as **The Fundamental Theorem of Calculus.**\n",
    "\n",
    "$$\n",
    "  \\boxed{\\int_a^b f'(x)\\,dx = f(b) - f(a)}  \\tag{FTC}\n",
    "$$"
   ]
  },
  {
   "cell_type": "markdown",
   "metadata": {},
   "source": [
    "Reviewing our steps, we see\n",
    "\n",
    "- integration is a sum\n",
    "- differentiation is a difference\n",
    "- and, finally, the sum of differences is the difference of the two ends!\n",
    "\n",
    "The practical effect of the (FTC) is that it reduces integration to differentiation (or anti-differentiation to be more exact).\n",
    "\n",
    "I see it as a game of hangman. For example, consider\n",
    "\n",
    "$$\n",
    "  \\int_0^\\pi \\cos(x)\\,dx  = \\int_0^\\pi (???)'\\,dx\n",
    "$$\n",
    "\n",
    "If I knew what $\\cos$ was the derivative of I could simply complete the deal by the (FTC). But I do know that $\\cos(x)=(\\sin(x))'$ and so\n",
    "\n",
    "$$  \n",
    "  \\int_0^\\pi \\cos(x)\\,dx  = \\int_0^\\pi (\\sin(x))'\\,dx = \\sin(\\pi)-\\sin(0) = 0 - 0 = 0.\n",
    "$$\n",
    "\n",
    "I recommend that you confirm this with our python integrator above. \n",
    "\n",
    "How about\n",
    "\n",
    "$$\n",
    "  \\int_0^1 x^2\\,dx  = \\int_0^1 (???)'\\,dx\n",
    "$$\n",
    "\n",
    "so here I need to find a function whose derivative is $x^2$. Please be careful, I am NOT asking for the derivative of $x^2$ but rather its anti-derivative. Don't get nervous about that anti, just know that is it there. Now, what kind of function has $x^2$ as its derivative? You know the power rule and so make the highly educated guess of $x^3$. But its derivative is $3x^2$, so in fact **the antiderivative of $x^2$ is $(1/3)x^3$**. Hence\n",
    "\n",
    "$$\n",
    "  \\int_0^1 x^2\\,dx  = \\int_0^1 ((1/3)x^3)'\\,dx = (1/3)(1^3)-(1/3)(0^3) = 1/3.\n",
    "$$\n",
    "\n",
    "Again, I strongly recommend that you confirm this with our python integrator.\n",
    "\n",
    "To make progress we need a table of functions and their derivatives. Here $c$ and $A$ are constants\n",
    "\n",
    " | $f(x)$ | $f'(x)$ |\n",
    " | --- | --- |\n",
    " | $c$    |  $0$  |\n",
    " | $cx$   |  $c$   |\n",
    " | $cx^p$ | $cpx^{p-1}$ |\n",
    " | $A\\sin(cx)$ | $Ac\\cos(cx)$ |\n",
    " | $A\\cos(cx)$ | $-Ac\\sin(cx)$ |\n",
    " \n",
    " \n",
    "Let's use this table to find\n",
    "\n",
    "$$\n",
    "  \\int_0^\\pi \\sin(5x)\\,dx = \\int_0^\\pi (???)'\\,dx \n",
    "$$\n",
    "\n",
    "we are asking if $\\sin(5x)$ is the derivative of something, and our table reveals that is the derivative of $-(1/5)\\cos(5x)$. That is, **$-(1/5)\\cos(5x)$ is the antiderivative of $\\sin(5x)$**. Hence\n",
    "\n",
    "$$\n",
    "  \\int_0^\\pi \\sin(5x)\\,dx = \\int_0^\\pi (-(1/5)\\cos(5x))'\\,dx = -(1/5)(\\cos(5\\pi)-\\cos(0)) = 2/5\n",
    "$$\n",
    "\n",
    "We can now integrate any polynomial, for example,\n",
    "\n",
    "$$\n",
    "  \\eqalign{\\int_{-1}^1 (5x^4 - 7x^3 + 4x^2 - 6x + 12)\\,dx \n",
    "  &= \\int_{-1}^1 (x^5 - (7/4)x^4 + (4/3)x^3 - (6/2)x^2 + 12x)'\\,dx \\cr\n",
    "  & = (1^5 - (7/4)1^4 + (4/3)1^3 - (6/2)1^2 + 12\\cdot 1) - ((-1)^5 - (7/4)(-1)^4 + (4/3)(-1)^3 - (6/2)(-1)^2 + 12(-1)) \\cr\n",
    "  & = (1-(7/4)+(4/3)-3+12) - (-1-7/4-4/3-3-12) \\cr\n",
    "  & = 2 + (8/3) + 24 = 86/3 \\cr}\n",
    "$$\n",
    "\n",
    "And, of course we can also handle fractional powers\n",
    "\n",
    "$$\n",
    "  \\int_{-2}^2 \\sqrt{2+x}\\,dx = \\int_{-2}^2 (2+x)^{1/2}\\,dx = \\int_{-2}^2 ((2/3)(2+x)^{3/2})'\\,dx \n",
    "   = ((2/3)(2+2)^{3/2}) - ((2/3)(2-2)^{3/2}) = (2/3)4^{3/2} = (2/3)2^3 = 16/3\n",
    "$$\n",
    "\n",
    "And also negative powers, for example\n",
    "\n",
    "$$\n",
    "  \\int_2^3 (4x-1)^{-2}\\,dx = \\int_2^3 ((-1/4)(4x-1)^{-1})'\\,dx = (-1/4)(4(3)-1)^{-1}-(4(2)-1)^{-1})\n",
    "   = (-1/4)(11^{-1}-7^{-1}) = \\frac{1}{4}\\left(\\frac{1}{7}-\\frac{1}{11}\\right) = \\frac{1}{77} \\approx 0.013\n",
    "$$"
   ]
  },
  {
   "cell_type": "markdown",
   "metadata": {},
   "source": [
    "**Homework 7.** Submit a jupyter notebook of your complete solution to Exercises 1-12 in section 5.2 of our text. Please follow the logic we established in our examples above. I also recommend that you check your answers with our python integrator. \n",
    "\n"
   ]
  }
 ],
 "metadata": {
  "kernelspec": {
   "display_name": "Python 3",
   "language": "python",
   "name": "python3"
  },
  "language_info": {
   "codemirror_mode": {
    "name": "ipython",
    "version": 3
   },
   "file_extension": ".py",
   "mimetype": "text/x-python",
   "name": "python",
   "nbconvert_exporter": "python",
   "pygments_lexer": "ipython3",
   "version": "3.8.3"
  },
  "latex_envs": {
   "LaTeX_envs_menu_present": true,
   "autoclose": false,
   "autocomplete": true,
   "bibliofile": "biblio.bib",
   "cite_by": "apalike",
   "current_citInitial": 1,
   "eqLabelWithNumbers": true,
   "eqNumInitial": 1,
   "hotkeys": {
    "equation": "Ctrl-E",
    "itemize": "Ctrl-I"
   },
   "labels_anchors": false,
   "latex_user_defs": false,
   "report_style_numbering": false,
   "user_envs_cfg": false
  },
  "toc": {
   "base_numbering": 1,
   "nav_menu": {},
   "number_sections": true,
   "sideBar": true,
   "skip_h1_title": false,
   "title_cell": "Table of Contents",
   "title_sidebar": "Contents",
   "toc_cell": false,
   "toc_position": {},
   "toc_section_display": true,
   "toc_window_display": false
  }
 },
 "nbformat": 4,
 "nbformat_minor": 4
}
